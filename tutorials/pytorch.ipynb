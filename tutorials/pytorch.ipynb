{
 "cells": [
  {
   "cell_type": "markdown",
   "id": "f73b1f65",
   "metadata": {},
   "source": []
  },
  {
   "cell_type": "code",
   "execution_count": 1,
   "id": "ecbf4b41",
   "metadata": {},
   "outputs": [],
   "source": [
    "import torch\n",
    "import numpy as np\n",
    "\n",
    "# tensors are specialized data structures that are very similar to arrays and matrices\n",
    "# in pytorch they are used to encode the inputs, outputs and parameters.\n",
    "# very similar to NP ndarray but can run on GPUS for specialized computing"
   ]
  },
  {
   "cell_type": "code",
   "execution_count": 12,
   "id": "7074f648",
   "metadata": {},
   "outputs": [],
   "source": [
    "# torch approach\n",
    "data = [[1,2],[3,4]]\n",
    "x_data = torch.tensor(data)\n",
    "\n",
    "# numpy approach\n",
    "np_array = np.array(data)\n",
    "x_np = torch.from_numpy(np_array)\n",
    "\n",
    "# from another tensor (this just replaces the entires with 1s but retains the properties)\n",
    "\n",
    "x_ones = torch.ones_like(x_data)"
   ]
  },
  {
   "cell_type": "code",
   "execution_count": 13,
   "id": "79c5d6c9",
   "metadata": {},
   "outputs": [
    {
     "name": "stdout",
     "output_type": "stream",
     "text": [
      "Shape of tensor: torch.Size([2, 3])\n",
      "Datatype of tensor: torch.float32\n",
      "Device tensor is stored on: cpu\n"
     ]
    }
   ],
   "source": [
    "# shape is tuple of dimensions rows, columns \n",
    "\n",
    "shape = (2,3,)\n",
    "tensor = torch.rand(shape)\n",
    "\n",
    "# the attributes of a tensor are shape, dtype, device where it is stored\n",
    "\n",
    "print(f\"Shape of tensor: {tensor.shape}\")\n",
    "print(f\"Datatype of tensor: {tensor.dtype}\")\n",
    "print(f\"Device tensor is stored on: {tensor.device}\")"
   ]
  },
  {
   "cell_type": "code",
   "execution_count": 15,
   "id": "b245c662",
   "metadata": {},
   "outputs": [
    {
     "name": "stdout",
     "output_type": "stream",
     "text": [
      "not available\n"
     ]
    }
   ],
   "source": [
    "# you can pass the computation device to GPU via cuda\n",
    "\n",
    "if torch.cuda.is_available():\n",
    "    tensor = tensor.to('cuda')\n",
    "    print(f\"Device tensor is stored on: {tensor.device}\")\n",
    "else:\n",
    "    print(\"not available\")"
   ]
  },
  {
   "cell_type": "code",
   "execution_count": null,
   "id": "b7b2ca5a",
   "metadata": {},
   "outputs": [
    {
     "data": {
      "text/plain": [
       "tensor([[-5.0000, -5.0000, -5.0000,  0.2578,  0.1744,  0.3483],\n",
       "        [-5.0000, -5.0000, -5.0000,  0.9094,  0.9282,  0.8958]])"
      ]
     },
     "execution_count": 22,
     "metadata": {},
     "output_type": "execute_result"
    }
   ],
   "source": [
    "tensor[1,:] = -5\n",
    "tensor_rand = torch.rand(2,3)\n",
    "\n",
    "# concat to be rows (0) concat to be columns (1)\n",
    "t1 = torch.cat([tensor,tensor_rand],dim = 1 )\n",
    "t1 \n"
   ]
  },
  {
   "cell_type": "code",
   "execution_count": null,
   "id": "a3622078",
   "metadata": {},
   "outputs": [
    {
     "data": {
      "text/plain": [
       "tensor([[ -3.9026, -13.6669],\n",
       "        [ -3.9026, -13.6669]])"
      ]
     },
     "execution_count": 25,
     "metadata": {},
     "output_type": "execute_result"
    }
   ],
   "source": [
    "# multiplying is straightforward just * or tensor.mul\n",
    "tensor * tensor_rand\n",
    "\n",
    "# matrix multiplication is @\n",
    "tensor @ torch.transpose(tensor_rand,0,1)"
   ]
  },
  {
   "cell_type": "code",
   "execution_count": null,
   "id": "b2b24f39",
   "metadata": {},
   "outputs": [],
   "source": [
    "# you can switch from tensors to numpy arrays if both are in the CPU \n",
    "t = torch.ones(2)\n",
    "n = t.numpy()\n",
    "# and you can still change n via t \n",
    "# the other direction is \n",
    "b = torch.from_numpy(n)"
   ]
  },
  {
   "cell_type": "code",
   "execution_count": null,
   "id": "31f6e332",
   "metadata": {},
   "outputs": [],
   "source": [
    "# intro to torch.autograd \n",
    "# this is the automatic differentiation engine that powers nueral network training.\n",
    "#Neural Networks are a collection of nested functions that are executed on some input data. \n",
    "# These functions are parameters (weights and biases), which in PyTorch are stored in tensors.\n",
    "# Steps to Train a NN\n",
    "# Forward Propagation: NN makes its best guess about the correct ouput. Runs the input through its functions to guess\n",
    "# Backward Propagation: NN adjust its parameters proportionate to the error. Done by traversing form the ouput while collecting derivatives of the error with respect to parameters (gradients) de/dp\n",
    "# Then optimizes the parameters using gradient descent"
   ]
  },
  {
   "cell_type": "code",
   "execution_count": null,
   "id": "bbb47670",
   "metadata": {},
   "outputs": [
    {
     "name": "stdout",
     "output_type": "stream",
     "text": [
      "Downloading: \"https://download.pytorch.org/models/resnet18-f37072fd.pth\" to /Users/blakekell/.cache/torch/hub/checkpoints/resnet18-f37072fd.pth\n"
     ]
    },
    {
     "name": "stderr",
     "output_type": "stream",
     "text": [
      "100.0%\n"
     ]
    }
   ],
   "source": [
    "\n",
    "import torch\n",
    "from torchvision.models import resnet18, ResNet18_Weights\n",
    "#pretrained resnet18 model \n",
    "model = resnet18(weights=ResNet18_Weights.DEFAULT)\n",
    "# create random tensor 1 batch(image count) of 3 channels (columns) each of height and width 64 \n",
    "data = torch.rand(1, 3, 64, 64)\n",
    "# something to compare to i suppose\n",
    "labels = torch.rand(1, 1000)"
   ]
  },
  {
   "cell_type": "code",
   "execution_count": null,
   "id": "62acb4c5",
   "metadata": {},
   "outputs": [],
   "source": [
    "prediction = model(data) # forward propagation\n"
   ]
  },
  {
   "cell_type": "code",
   "execution_count": 31,
   "id": "f0b21802",
   "metadata": {},
   "outputs": [],
   "source": [
    "loss = (prediction - labels).sum()\n",
    "loss.backward() # back propagation"
   ]
  },
  {
   "cell_type": "code",
   "execution_count": null,
   "id": "fc361bb2",
   "metadata": {},
   "outputs": [],
   "source": [
    "# load the optimizer\n",
    "optim = torch.optim.SGD(model.parameters(), lr=1e-2, momentum=0.9)"
   ]
  },
  {
   "cell_type": "code",
   "execution_count": null,
   "id": "463463a6",
   "metadata": {},
   "outputs": [],
   "source": [
    "# .step() initiates gradient descent\n",
    "optim.step()"
   ]
  },
  {
   "cell_type": "code",
   "execution_count": null,
   "id": "5ff3f397",
   "metadata": {},
   "outputs": [],
   "source": [
    "import torch \n",
    "a = torch.tensor([2.,3.], requires_grad=True)\n",
    "b = torch.tensor([6.,4.], requires_grad=True)\n",
    "\n",
    "Q = 3*a**3 - b**2\n",
    "\n",
    "# requires_grad makes every operation be track as in mathematical operation "
   ]
  },
  {
   "cell_type": "code",
   "execution_count": 36,
   "id": "fdbd169e",
   "metadata": {},
   "outputs": [],
   "source": [
    "Q.sum().backward()\n",
    "\n"
   ]
  },
  {
   "cell_type": "code",
   "execution_count": 37,
   "id": "099844ec",
   "metadata": {},
   "outputs": [
    {
     "name": "stdout",
     "output_type": "stream",
     "text": [
      "tensor([True, True])\n",
      "tensor([True, True])\n"
     ]
    }
   ],
   "source": [
    "# check if collected gradients are correct\n",
    "print(9*a**2 == a.grad)\n",
    "print(-2*b == b.grad)"
   ]
  },
  {
   "cell_type": "code",
   "execution_count": null,
   "id": "b8524f6e",
   "metadata": {},
   "outputs": [
    {
     "name": "stdout",
     "output_type": "stream",
     "text": [
      "Net(\n",
      "  (conv1): Conv2d(1, 6, kernel_size=(5, 5), stride=(1, 1))\n",
      "  (conv2): Conv2d(6, 16, kernel_size=(5, 5), stride=(1, 1))\n",
      "  (fc1): Linear(in_features=400, out_features=120, bias=True)\n",
      "  (fc2): Linear(in_features=120, out_features=84, bias=True)\n",
      "  (fc3): Linear(in_features=84, out_features=10, bias=True)\n",
      ")\n"
     ]
    }
   ],
   "source": [
    "# Neural Networks\n",
    "# constructed with the torch.nn package. nn depends on autograd to define models and differntiate them\n",
    "# nn.module contains laters and a method forward(input) that retursn the output\n",
    "\n",
    "\n",
    "import torch\n",
    "import torch.nn as nn\n",
    "import torch.nn.functional as F\n",
    "\n",
    "\n",
    "class Net(nn.Module):\n",
    "\n",
    "    def __init__(self):\n",
    "        super().__init__()\n",
    "        # 1 input image channel, 6 output channels, 5x5 square convolution\n",
    "        # kernel\n",
    "        self.conv1 = nn.Conv2d(1, 6, 5)\n",
    "        self.conv2 = nn.Conv2d(6, 16, 5)\n",
    "        # an affine operation: y = Wx + b\n",
    "        self.fc1 = nn.Linear(16 * 5 * 5, 120)  # 5*5 from image dimension\n",
    "        self.fc2 = nn.Linear(120, 84)\n",
    "        self.fc3 = nn.Linear(84, 10)\n",
    "\n",
    "    def forward(self, input):\n",
    "        # Convolution layer C1: 1 input image channel, 6 output channels,\n",
    "        # 5x5 square convolution, it uses RELU activation function, and\n",
    "        # outputs a Tensor with size (N, 6, 28, 28), where N is the size of the batch\n",
    "        c1 = F.relu(self.conv1(input))\n",
    "        # Subsampling layer S2: 2x2 grid, purely functional,\n",
    "        # this layer does not have any parameter, and outputs a (N, 6, 14, 14) Tensor\n",
    "        s2 = F.max_pool2d(c1, (2, 2))\n",
    "        # Convolution layer C3: 6 input channels, 16 output channels,\n",
    "        # 5x5 square convolution, it uses RELU activation function, and\n",
    "        # outputs a (N, 16, 10, 10) Tensor\n",
    "        c3 = F.relu(self.conv2(s2))\n",
    "        # Subsampling layer S4: 2x2 grid, purely functional,\n",
    "        # this layer does not have any parameter, and outputs a (N, 16, 5, 5) Tensor\n",
    "        s4 = F.max_pool2d(c3, 2)\n",
    "        # Flatten operation: purely functional, outputs a (N, 400) Tensor\n",
    "        s4 = torch.flatten(s4, 1)\n",
    "        # Fully connected layer F5: (N, 400) Tensor input,\n",
    "        # and outputs a (N, 120) Tensor, it uses RELU activation function\n",
    "        f5 = F.relu(self.fc1(s4))\n",
    "        # Fully connected layer F6: (N, 120) Tensor input,\n",
    "        # and outputs a (N, 84) Tensor, it uses RELU activation function\n",
    "        f6 = F.relu(self.fc2(f5))\n",
    "        # Gaussian layer OUTPUT: (N, 84) Tensor input, and\n",
    "        # outputs a (N, 10) Tensor\n",
    "        output = self.fc3(f6)\n",
    "        return output\n",
    "\n",
    "\n",
    "net = Net()\n",
    "print(net)\n",
    "\n"
   ]
  },
  {
   "cell_type": "code",
   "execution_count": null,
   "id": "ef25487c",
   "metadata": {},
   "outputs": [
    {
     "name": "stdout",
     "output_type": "stream",
     "text": [
      "10\n",
      "torch.Size([6, 1, 5, 5])\n"
     ]
    }
   ],
   "source": [
    "# view learnable parameters\n",
    "\n",
    "params = list(net.parameters())\n",
    "print(len(params))\n",
    "print(params[0].size())  # conv1's .weight"
   ]
  },
  {
   "cell_type": "code",
   "execution_count": null,
   "id": "7d643ac2",
   "metadata": {},
   "outputs": [
    {
     "name": "stdout",
     "output_type": "stream",
     "text": [
      "tensor([[-0.0443, -0.1379, -0.0953,  0.0236, -0.0480, -0.0589,  0.1329, -0.1700,\n",
      "         -0.1390,  0.0408]], grad_fn=<AddmmBackward0>)\n"
     ]
    }
   ],
   "source": [
    "# forward propagate with a random 32 by 32 image\n",
    "input = torch.randn(1, 1, 32, 32)\n",
    "out = net(input)\n",
    "print(out)"
   ]
  },
  {
   "cell_type": "code",
   "execution_count": null,
   "id": "6e07e939",
   "metadata": {},
   "outputs": [],
   "source": [
    "# zero out gradient buffers with random gradients ? \n",
    "net.zero_grad()\n",
    "out.backward(torch.randn(1, 10))"
   ]
  }
 ],
 "metadata": {
  "kernelspec": {
   "display_name": "Python 3",
   "language": "python",
   "name": "python3"
  },
  "language_info": {
   "codemirror_mode": {
    "name": "ipython",
    "version": 3
   },
   "file_extension": ".py",
   "mimetype": "text/x-python",
   "name": "python",
   "nbconvert_exporter": "python",
   "pygments_lexer": "ipython3",
   "version": "3.11.6"
  }
 },
 "nbformat": 4,
 "nbformat_minor": 5
}
