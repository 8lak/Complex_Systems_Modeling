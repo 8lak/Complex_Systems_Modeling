{
 "cells": [
  {
   "cell_type": "markdown",
   "id": "f73b1f65",
   "metadata": {},
   "source": []
  },
  {
   "cell_type": "code",
   "execution_count": 1,
   "id": "ecbf4b41",
   "metadata": {},
   "outputs": [],
   "source": [
    "import torch\n",
    "import numpy as np\n",
    "\n",
    "# tensors are specialized data structures that are very similar to arrays and matrices\n",
    "# in pytorch they are used to encode the inputs, outputs and parameters.\n",
    "# very similar to NP ndarray but can run on GPUS for specialized computing"
   ]
  },
  {
   "cell_type": "code",
   "execution_count": 12,
   "id": "7074f648",
   "metadata": {},
   "outputs": [],
   "source": [
    "# torch approach\n",
    "data = [[1,2],[3,4]]\n",
    "x_data = torch.tensor(data)\n",
    "\n",
    "# numpy approach\n",
    "np_array = np.array(data)\n",
    "x_np = torch.from_numpy(np_array)\n",
    "\n",
    "# from another tensor (this just replaces the entires with 1s but retains the properties)\n",
    "\n",
    "x_ones = torch.ones_like(x_data)"
   ]
  },
  {
   "cell_type": "code",
   "execution_count": 13,
   "id": "79c5d6c9",
   "metadata": {},
   "outputs": [
    {
     "name": "stdout",
     "output_type": "stream",
     "text": [
      "Shape of tensor: torch.Size([2, 3])\n",
      "Datatype of tensor: torch.float32\n",
      "Device tensor is stored on: cpu\n"
     ]
    }
   ],
   "source": [
    "# shape is tuple of dimensions rows, columns \n",
    "\n",
    "shape = (2,3,)\n",
    "tensor = torch.rand(shape)\n",
    "\n",
    "# the attributes of a tensor are shape, dtype, device where it is stored\n",
    "\n",
    "print(f\"Shape of tensor: {tensor.shape}\")\n",
    "print(f\"Datatype of tensor: {tensor.dtype}\")\n",
    "print(f\"Device tensor is stored on: {tensor.device}\")"
   ]
  },
  {
   "cell_type": "code",
   "execution_count": 15,
   "id": "b245c662",
   "metadata": {},
   "outputs": [
    {
     "name": "stdout",
     "output_type": "stream",
     "text": [
      "not available\n"
     ]
    }
   ],
   "source": [
    "# you can pass the computation device to GPU via cuda\n",
    "\n",
    "if torch.cuda.is_available():\n",
    "    tensor = tensor.to('cuda')\n",
    "    print(f\"Device tensor is stored on: {tensor.device}\")\n",
    "else:\n",
    "    print(\"not available\")"
   ]
  },
  {
   "cell_type": "code",
   "execution_count": null,
   "id": "b7b2ca5a",
   "metadata": {},
   "outputs": [
    {
     "data": {
      "text/plain": [
       "tensor([[-5.0000, -5.0000, -5.0000,  0.2578,  0.1744,  0.3483],\n",
       "        [-5.0000, -5.0000, -5.0000,  0.9094,  0.9282,  0.8958]])"
      ]
     },
     "execution_count": 22,
     "metadata": {},
     "output_type": "execute_result"
    }
   ],
   "source": [
    "tensor[1,:] = -5\n",
    "tensor_rand = torch.rand(2,3)\n",
    "\n",
    "# concat to be rows (0) concat to be columns (1)\n",
    "t1 = torch.cat([tensor,tensor_rand],dim = 1 )\n",
    "t1 \n"
   ]
  },
  {
   "cell_type": "code",
   "execution_count": null,
   "id": "a3622078",
   "metadata": {},
   "outputs": [
    {
     "data": {
      "text/plain": [
       "tensor([[ -3.9026, -13.6669],\n",
       "        [ -3.9026, -13.6669]])"
      ]
     },
     "execution_count": 25,
     "metadata": {},
     "output_type": "execute_result"
    }
   ],
   "source": [
    "# multiplying is straightforward just * or tensor.mul\n",
    "tensor * tensor_rand\n",
    "\n",
    "# matrix multiplication is @\n",
    "tensor @ torch.transpose(tensor_rand,0,1)"
   ]
  },
  {
   "cell_type": "code",
   "execution_count": null,
   "id": "b2b24f39",
   "metadata": {},
   "outputs": [],
   "source": [
    "# you can switch from tensors to numpy arrays if both are in the CPU \n",
    "t = torch.ones(2)\n",
    "n = t.numpy()\n",
    "# and you can still change n via t \n",
    "# the other direction is \n",
    "b = torch.from_numpy(n)"
   ]
  },
  {
   "cell_type": "code",
   "execution_count": null,
   "id": "31f6e332",
   "metadata": {},
   "outputs": [],
   "source": [
    "# intro to torch.autograd \n",
    "# this is the automatic differentiation engine that powers nueral network training.\n",
    "#Neural Networks are a collection of nested functions that are executed on some input data. \n",
    "# These functions are parameters (weights and biases), which in PyTorch are stored in tensors.\n",
    "# Steps to Train a NN\n",
    "# Forward Propagation: NN makes its best guess about the correct ouput. Runs the input through its functions to guess\n",
    "# Backward Propagation: NN adjust its parameters proportionate to the error. Done by traversing from the ouput while collecting derivatives of the error with respect to parameters (gradients) de/dp\n",
    "# Then optimizes the parameters using gradient descent"
   ]
  },
  {
   "cell_type": "code",
   "execution_count": null,
   "id": "bbb47670",
   "metadata": {},
   "outputs": [
    {
     "name": "stdout",
     "output_type": "stream",
     "text": [
      "Downloading: \"https://download.pytorch.org/models/resnet18-f37072fd.pth\" to /Users/blakekell/.cache/torch/hub/checkpoints/resnet18-f37072fd.pth\n"
     ]
    },
    {
     "name": "stderr",
     "output_type": "stream",
     "text": [
      "100.0%\n"
     ]
    }
   ],
   "source": [
    "\n",
    "import torch\n",
    "from torchvision.models import resnet18, ResNet18_Weights\n",
    "#pretrained resnet18 model \n",
    "model = resnet18(weights=ResNet18_Weights.DEFAULT)\n",
    "# create random tensor 1 batch(image count) of 3 channels (columns) each of height and width 64 \n",
    "data = torch.rand(1, 3, 64, 64)\n",
    "# something to compare to i suppose\n",
    "labels = torch.rand(1, 1000)"
   ]
  },
  {
   "cell_type": "code",
   "execution_count": null,
   "id": "62acb4c5",
   "metadata": {},
   "outputs": [],
   "source": [
    "prediction = model(data) # forward propagation\n"
   ]
  },
  {
   "cell_type": "code",
   "execution_count": 31,
   "id": "f0b21802",
   "metadata": {},
   "outputs": [],
   "source": [
    "loss = (prediction - labels).sum()\n",
    "loss.backward() # back propagation"
   ]
  },
  {
   "cell_type": "code",
   "execution_count": null,
   "id": "fc361bb2",
   "metadata": {},
   "outputs": [],
   "source": [
    "# load the optimizer\n",
    "optim = torch.optim.SGD(model.parameters(), lr=1e-2, momentum=0.9)"
   ]
  },
  {
   "cell_type": "code",
   "execution_count": null,
   "id": "463463a6",
   "metadata": {},
   "outputs": [],
   "source": [
    "# .step() initiates gradient descent\n",
    "optim.step()"
   ]
  },
  {
   "cell_type": "code",
   "execution_count": null,
   "id": "5ff3f397",
   "metadata": {},
   "outputs": [],
   "source": [
    "import torch \n",
    "a = torch.tensor([2.,3.], requires_grad=True)\n",
    "b = torch.tensor([6.,4.], requires_grad=True)\n",
    "\n",
    "Q = 3*a**3 - b**2\n",
    "\n",
    "# requires_grad makes every operation be track as in mathematical operation "
   ]
  },
  {
   "cell_type": "code",
   "execution_count": 36,
   "id": "fdbd169e",
   "metadata": {},
   "outputs": [],
   "source": [
    "Q.sum().backward()\n",
    "\n"
   ]
  },
  {
   "cell_type": "code",
   "execution_count": 37,
   "id": "099844ec",
   "metadata": {},
   "outputs": [
    {
     "name": "stdout",
     "output_type": "stream",
     "text": [
      "tensor([True, True])\n",
      "tensor([True, True])\n"
     ]
    }
   ],
   "source": [
    "# check if collected gradients are correct\n",
    "print(9*a**2 == a.grad)\n",
    "print(-2*b == b.grad)"
   ]
  },
  {
   "cell_type": "code",
   "execution_count": null,
   "id": "b8524f6e",
   "metadata": {},
   "outputs": [
    {
     "name": "stdout",
     "output_type": "stream",
     "text": [
      "Net(\n",
      "  (conv1): Conv2d(1, 6, kernel_size=(5, 5), stride=(1, 1))\n",
      "  (conv2): Conv2d(6, 16, kernel_size=(5, 5), stride=(1, 1))\n",
      "  (fc1): Linear(in_features=400, out_features=120, bias=True)\n",
      "  (fc2): Linear(in_features=120, out_features=84, bias=True)\n",
      "  (fc3): Linear(in_features=84, out_features=10, bias=True)\n",
      ")\n"
     ]
    }
   ],
   "source": [
    "# Neural Networks\n",
    "# constructed with the torch.nn package. nn depends on autograd to define models and differntiate them\n",
    "# nn.module contains laters and a method forward(input) that retursn the output\n",
    "\n",
    "\n",
    "import torch\n",
    "import torch.nn as nn\n",
    "import torch.nn.functional as F\n",
    "\n",
    "\n",
    "class Net(nn.Module):\n",
    "\n",
    "    def __init__(self):\n",
    "        super().__init__()\n",
    "        # 1 input image channel, 6 output channels, 5x5 square convolution\n",
    "        # kernel\n",
    "\n",
    "        # nn.Conv2d(in_channels, out_channels, kernel_size)\n",
    "        self.conv1 = nn.Conv2d(1, 6, 5)\n",
    "        self.conv2 = nn.Conv2d(6, 16, 5)\n",
    "        # an affine operation: y = Wx + b\n",
    "        #nn.Linear(in_features, out_features)\n",
    "        self.fc1 = nn.Linear(16 * 5 * 5, 120)  # 5*5 from image dimension\n",
    "        self.fc2 = nn.Linear(120, 84)\n",
    "        self.fc3 = nn.Linear(84, 10)\n",
    "\n",
    "    def forward(self, input):\n",
    "        \n",
    "        #This entire first section is the \"dimension reduction\" and \"clumping features that serve as a basis.\" It's a hierarchical process. Inital values are randomly created with processes like Kaiming He Initialization\n",
    "\n",
    "\n",
    "        #What it does: First convolutional layer.\n",
    "        #basis -> \n",
    "        c1 = F.relu(self.conv1(input))\n",
    "        # relu is added for learn non-linear relationships.\n",
    "        #F.relu(input):\n",
    "        #What it is: An Activation Function. It takes the output of a layer and applies the simple mathematical function max(0, x) to every single element. Any negative value becomes zero.\n",
    "\n",
    "        #What it does: First pooling layer.\n",
    "        # dimension reduce -> \n",
    "        s2 = F.max_pool2d(c1, (2, 2))\n",
    "        #F.max_pool2d(input, kernel_size):\n",
    "        #What it is: A Downsampling Layer. It slides a window (kernel_size, e.g., 2x2) over the input feature map and, for each window, keeps only the single maximum value.\n",
    "        #Why it's used:\n",
    "        #Dimensionality Reduction: It makes the feature maps smaller (e.g., a 14x14 map becomes 7x7), which reduces the number of parameters and computations in later layers.\n",
    "        #Local Invariance:# \n",
    "\n",
    "        \n",
    "        # structure basis -> \n",
    "        c3 = F.relu(self.conv2(s2))\n",
    "        \n",
    "        #dimension reduce -> \n",
    "        s4 = F.max_pool2d(c3, 2)\n",
    "        \n",
    "        #flatten (global space) -> \n",
    "        s4 = torch.flatten(s4, 1)\n",
    "        #torch.flatten(input, 1):\n",
    "        #What it is: A Reshaping Operation. It takes a multi-dimensional tensor and collapses it into a 1D vector. \n",
    "        # Why it's used: It is the critical bridge between the convolutional world and the linear world. \n",
    "\n",
    "       \n",
    "        #basis of global space using given structure basis -> \n",
    "        f5 = F.relu(self.fc1(s4))\n",
    "        f6 = F.relu(self.fc2(f5))\n",
    "       \n",
    "        #final projection or final basis\n",
    "        output = self.fc3(f6)\n",
    "        return output\n",
    "\n",
    "\n",
    "net = Net()\n",
    "print(net)\n",
    "\n",
    "\n",
    "\n"
   ]
  },
  {
   "cell_type": "code",
   "execution_count": null,
   "id": "ef25487c",
   "metadata": {},
   "outputs": [
    {
     "name": "stdout",
     "output_type": "stream",
     "text": [
      "10\n",
      "torch.Size([6, 1, 5, 5])\n"
     ]
    }
   ],
   "source": [
    "# view learnable parameters\n",
    "\n",
    "params = list(net.parameters())\n",
    "print(len(params))\n",
    "print(params[0].size())  # conv1's .weight"
   ]
  },
  {
   "cell_type": "code",
   "execution_count": null,
   "id": "7d643ac2",
   "metadata": {},
   "outputs": [
    {
     "name": "stdout",
     "output_type": "stream",
     "text": [
      "tensor([[-0.0443, -0.1379, -0.0953,  0.0236, -0.0480, -0.0589,  0.1329, -0.1700,\n",
      "         -0.1390,  0.0408]], grad_fn=<AddmmBackward0>)\n"
     ]
    }
   ],
   "source": [
    "# forward propagate with a random 32 by 32 image\n",
    "input = torch.randn(1, 1, 32, 32)\n",
    "out = net(input)\n",
    "print(out)"
   ]
  },
  {
   "cell_type": "code",
   "execution_count": 1,
   "id": "6e07e939",
   "metadata": {},
   "outputs": [
    {
     "ename": "NameError",
     "evalue": "name 'net' is not defined",
     "output_type": "error",
     "traceback": [
      "\u001b[31m---------------------------------------------------------------------------\u001b[39m",
      "\u001b[31mNameError\u001b[39m                                 Traceback (most recent call last)",
      "\u001b[36mCell\u001b[39m\u001b[36m \u001b[39m\u001b[32mIn[1]\u001b[39m\u001b[32m, line 2\u001b[39m\n\u001b[32m      1\u001b[39m \u001b[38;5;66;03m# zero out gradient buffers with random gradients ? demonstration of being able to skip forward pass and loss function and just do back prop with update\u001b[39;00m\n\u001b[32m----> \u001b[39m\u001b[32m2\u001b[39m \u001b[43mnet\u001b[49m.zero_grad()\n\u001b[32m      3\u001b[39m out.backward(torch.randn(\u001b[32m1\u001b[39m, \u001b[32m10\u001b[39m))\n",
      "\u001b[31mNameError\u001b[39m: name 'net' is not defined"
     ]
    }
   ],
   "source": [
    "# zero out gradient buffers with random gradients ? demonstration of being able to skip forward pass and loss function and just do back prop with update\n",
    "net.zero_grad()\n",
    "out.backward(torch.randn(1, 10))\n"
   ]
  },
  {
   "cell_type": "code",
   "execution_count": 2,
   "id": "5aa89796",
   "metadata": {},
   "outputs": [
    {
     "ename": "NameError",
     "evalue": "name 'net' is not defined",
     "output_type": "error",
     "traceback": [
      "\u001b[31m---------------------------------------------------------------------------\u001b[39m",
      "\u001b[31mNameError\u001b[39m                                 Traceback (most recent call last)",
      "\u001b[36mCell\u001b[39m\u001b[36m \u001b[39m\u001b[32mIn[2]\u001b[39m\u001b[32m, line 1\u001b[39m\n\u001b[32m----> \u001b[39m\u001b[32m1\u001b[39m output = \u001b[43mnet\u001b[49m(\u001b[38;5;28minput\u001b[39m)\n\u001b[32m      2\u001b[39m target = torch.randn(\u001b[32m10\u001b[39m)  \u001b[38;5;66;03m# a dummy target, for example\u001b[39;00m\n\u001b[32m      3\u001b[39m target = target.view(\u001b[32m1\u001b[39m, -\u001b[32m1\u001b[39m)  \u001b[38;5;66;03m# make it the same shape as output\u001b[39;00m\n",
      "\u001b[31mNameError\u001b[39m: name 'net' is not defined"
     ]
    }
   ],
   "source": [
    "output = net(input)\n",
    "target = torch.randn(10)  # a dummy target, for example\n",
    "target = target.view(1, -1)  # make it the same shape as output\n",
    "criterion = nn.MSELoss()\n",
    "\n",
    "loss = criterion(output, target)\n",
    "print(loss)\n"
   ]
  },
  {
   "cell_type": "code",
   "execution_count": null,
   "id": "3c6f18ef",
   "metadata": {},
   "outputs": [],
   "source": [
    "import torch.optim as optim\n",
    "\n",
    "# create your optimizer\n",
    "optimizer = optim.SGD(net.parameters(), lr=0.01)\n",
    "\n",
    "# in your training loop:\n",
    "optimizer.zero_grad()   # zero the gradient buffers\n",
    "output = net(input)\n",
    "loss = criterion(output, target)\n",
    "loss.backward()\n",
    "optimizer.step()    # Does the update"
   ]
  },
  {
   "cell_type": "code",
   "execution_count": null,
   "id": "550e05a7",
   "metadata": {},
   "outputs": [],
   "source": [
    "# Training a Classifier\n",
    "\n",
    "# libraries for tranforming, loading and preparing data \n",
    "#Generally, when you have to deal with image, text, audio or video data, you can use standard python packages that load data into a numpy array. Then you can convert this array into a torch.*Tensor.\n",
    "#For images, packages such as Pillow, OpenCV are useful\n",
    "#For audio, packages such as scipy and librosa\n",
    "#For text, either raw Python or Cython based loading, or NLTK and SpaCy are useful\n",
    "#Specifically for vision, we have created a package called torchvision, that has data loaders for common datasets such as ImageNet, CIFAR10, MNIST, etc. and data transformers for images, viz., torchvision.datasets and torch.utils.data.DataLoader.\n",
    "\n",
    "\n"
   ]
  },
  {
   "cell_type": "code",
   "execution_count": 3,
   "id": "d3439105",
   "metadata": {},
   "outputs": [],
   "source": [
    "# load and normalize CIFAR10\n",
    "\n",
    "import torch\n",
    "import torchvision\n",
    "import torchvision.transforms as transforms"
   ]
  },
  {
   "cell_type": "code",
   "execution_count": 4,
   "id": "803f4dc7",
   "metadata": {},
   "outputs": [
    {
     "name": "stderr",
     "output_type": "stream",
     "text": [
      "100.0%\n"
     ]
    }
   ],
   "source": [
    "transform = transforms.Compose(\n",
    "    [transforms.ToTensor(),\n",
    "     transforms.Normalize((0.5, 0.5, 0.5), (0.5, 0.5, 0.5))])\n",
    "\n",
    "batch_size = 4\n",
    "\n",
    "trainset = torchvision.datasets.CIFAR10(root='./data', train=True,\n",
    "                                        download=True, transform=transform)\n",
    "trainloader = torch.utils.data.DataLoader(trainset, batch_size=batch_size,\n",
    "                                          shuffle=True, num_workers=2)\n",
    "\n",
    "testset = torchvision.datasets.CIFAR10(root='./data', train=False,\n",
    "                                       download=True, transform=transform)\n",
    "testloader = torch.utils.data.DataLoader(testset, batch_size=batch_size,\n",
    "                                         shuffle=False, num_workers=2)\n",
    "\n",
    "classes = ('plane', 'car', 'bird', 'cat',\n",
    "           'deer', 'dog', 'frog', 'horse', 'ship', 'truck')"
   ]
  },
  {
   "cell_type": "code",
   "execution_count": 5,
   "id": "8329a6b8",
   "metadata": {},
   "outputs": [
    {
     "data": {
      "image/png": "[encoded data removed]",
      "text/plain": [
       "<Figure size 640x480 with 1 Axes>"
      ]
     },
     "metadata": {},
     "output_type": "display_data"
    },
    {
     "name": "stdout",
     "output_type": "stream",
     "text": [
      "frog  ship  frog  truck\n"
     ]
    }
   ],
   "source": [
    "import matplotlib.pyplot as plt\n",
    "import numpy as np\n",
    "\n",
    "# functions to show an image\n",
    "\n",
    "\n",
    "def imshow(img):\n",
    "    img = img / 2 + 0.5     # unnormalize\n",
    "    npimg = img.numpy()\n",
    "    plt.imshow(np.transpose(npimg, (1, 2, 0)))\n",
    "    plt.show()\n",
    "\n",
    "\n",
    "# get some random training images\n",
    "dataiter = iter(trainloader)\n",
    "images, labels = next(dataiter)\n",
    "\n",
    "# show images\n",
    "imshow(torchvision.utils.make_grid(images))\n",
    "# print labels\n",
    "print(' '.join(f'{classes[labels[j]]:5s}' for j in range(batch_size)))"
   ]
  },
  {
   "cell_type": "code",
   "execution_count": 6,
   "id": "4f222071",
   "metadata": {},
   "outputs": [],
   "source": [
    "import torch.nn as nn\n",
    "import torch.nn.functional as F\n",
    "\n",
    "\n",
    "class Net(nn.Module):\n",
    "    def __init__(self):\n",
    "        super().__init__()\n",
    "        self.conv1 = nn.Conv2d(3, 6, 5)\n",
    "        self.pool = nn.MaxPool2d(2, 2)\n",
    "        self.conv2 = nn.Conv2d(6, 16, 5)\n",
    "        self.fc1 = nn.Linear(16 * 5 * 5, 120)\n",
    "        self.fc2 = nn.Linear(120, 84)\n",
    "        self.fc3 = nn.Linear(84, 10)\n",
    "\n",
    "    def forward(self, x):\n",
    "        x = self.pool(F.relu(self.conv1(x)))\n",
    "        x = self.pool(F.relu(self.conv2(x)))\n",
    "        x = torch.flatten(x, 1) # flatten all dimensions except batch\n",
    "        x = F.relu(self.fc1(x))\n",
    "        x = F.relu(self.fc2(x))\n",
    "        x = self.fc3(x)\n",
    "        return x\n",
    "\n",
    "\n",
    "net = Net()"
   ]
  },
  {
   "cell_type": "code",
   "execution_count": 7,
   "id": "72f90289",
   "metadata": {},
   "outputs": [],
   "source": [
    "import torch.optim as optim\n",
    "\n",
    "criterion = nn.CrossEntropyLoss()\n",
    "optimizer = optim.SGD(net.parameters(), lr=0.001, momentum=0.9)"
   ]
  },
  {
   "cell_type": "code",
   "execution_count": 8,
   "id": "c6a263c7",
   "metadata": {},
   "outputs": [
    {
     "name": "stdout",
     "output_type": "stream",
     "text": [
      "[1,  2000] loss: 2.202\n",
      "[1,  4000] loss: 1.848\n",
      "[1,  6000] loss: 1.694\n",
      "[1,  8000] loss: 1.566\n",
      "[1, 10000] loss: 1.495\n",
      "[1, 12000] loss: 1.478\n",
      "[2,  2000] loss: 1.399\n",
      "[2,  4000] loss: 1.368\n",
      "[2,  6000] loss: 1.333\n",
      "[2,  8000] loss: 1.314\n",
      "[2, 10000] loss: 1.307\n",
      "[2, 12000] loss: 1.271\n",
      "Finished Training\n"
     ]
    }
   ],
   "source": [
    "for epoch in range(2):  # loop over the dataset multiple times\n",
    "\n",
    "    running_loss = 0.0\n",
    "    for i, data in enumerate(trainloader, 0):\n",
    "        # get the inputs; data is a list of [inputs, labels]\n",
    "        inputs, labels = data\n",
    "\n",
    "        # zero the parameter gradients\n",
    "        optimizer.zero_grad()\n",
    "\n",
    "        # forward + backward + optimize\n",
    "        outputs = net(inputs)\n",
    "        loss = criterion(outputs, labels)\n",
    "        loss.backward()\n",
    "        optimizer.step()\n",
    "\n",
    "        # print statistics\n",
    "        running_loss += loss.item()\n",
    "        if i % 2000 == 1999:    # print every 2000 mini-batches\n",
    "            print(f'[{epoch + 1}, {i + 1:5d}] loss: {running_loss / 2000:.3f}')\n",
    "            running_loss = 0.0\n",
    "\n",
    "print('Finished Training')"
   ]
  },
  {
   "cell_type": "code",
   "execution_count": null,
   "id": "89d14ecf",
   "metadata": {},
   "outputs": [],
   "source": [
    "# hands on implementation of the workflow with first-principles commenting\n",
    "# pytorch has two primitives torch.utils.data.DataSet: stores the samples and corresponding labels and torch.utils.data.DataLoader: wraps an iterable around the DataSet\n",
    "# pytorch has domain specific data libraries TorchText, TorchVision, TorchAudio\n",
    "\n",
    "\n"
   ]
  },
  {
   "cell_type": "code",
   "execution_count": null,
   "id": "4880debf",
   "metadata": {},
   "outputs": [],
   "source": [
    "# importing torch Data loaders and datasets\n",
    "\n",
    "import torch\n",
    "from torch import nn\n",
    "from torch.utils.data import DataLoader\n",
    "from torchvision import datasets\n",
    "from torchvision.transforms import ToTensor"
   ]
  },
  {
   "cell_type": "code",
   "execution_count": null,
   "id": "eda5f8e5",
   "metadata": {},
   "outputs": [],
   "source": [
    "# downloading storing and transforming to tensors of the training and testing data\n",
    "\n",
    "training_data = datasets.FashionMNIST(\n",
    "    root=\"data\",\n",
    "    train=True,\n",
    "    transform=ToTensor(),\n",
    "    download=True\n",
    ")\n",
    "\n",
    "test_data = datasets.FashionMNIST(\n",
    "    root=\"data\",\n",
    "    train=False,\n",
    "    transform=ToTensor(),\n",
    "    download=True\n",
    ")"
   ]
  },
  {
   "cell_type": "code",
   "execution_count": null,
   "id": "e622cb2f",
   "metadata": {},
   "outputs": [],
   "source": [
    "# passing data into data loarder for microprocessing\n",
    "\n",
    "training_loader = DataLoader(training_data,64,True)\n",
    "testing_loader = DataLoader(test_data,64)"
   ]
  },
  {
   "cell_type": "code",
   "execution_count": null,
   "id": "cad28147",
   "metadata": {},
   "outputs": [],
   "source": [
    "class NN(nn.Module):\n",
    "\n",
    "    def __init__(self):\n",
    "        super().__init__()\n",
    "        # flatten data into tensor\n",
    "        self.flatten = nn.Flatten()\n",
    "\n",
    "        # easy way to stack operations \n",
    "        self.relu_stack = nn.Sequential(\n",
    "            nn.Linear(28*28,512),\n",
    "            nn.ReLU(),\n",
    "            nn.Linear(512,512),\n",
    "            nn.ReLU*(),\n",
    "            nn.Linear(512,10)\n",
    "        )\n",
    "    def forward(self, input):\n",
    "        x = self.flatten(input)\n",
    "        logits = self.relu_stack(x)\n",
    "        return logits \n",
    "    \n",
    "\n",
    "model = NN()\n"
   ]
  },
  {
   "cell_type": "code",
   "execution_count": null,
   "id": "1375de45",
   "metadata": {},
   "outputs": [],
   "source": [
    "#inputs for the nn. functions used to pass to the optimizer for updating weights\n",
    "model.parameters()"
   ]
  },
  {
   "cell_type": "code",
   "execution_count": null,
   "id": "e8d03520",
   "metadata": {},
   "outputs": [],
   "source": [
    "# optimizer and loss function \n",
    "\n",
    "loss = nn.CrossEntropyLoss()\n",
    "optimizer = torch.optim.SGD(model.parameters(),1e-3)"
   ]
  },
  {
   "cell_type": "code",
   "execution_count": null,
   "id": "cbafa8c9",
   "metadata": {},
   "outputs": [],
   "source": [
    "# training data iterate through dataloader object calculate loss and SGD\n",
    "\n",
    "def train(data,model , loss, opt):\n",
    "    size = len(data.dataset)\n",
    "\n",
    "    # set up training mode \n",
    "    model.train()\n",
    "\n",
    "    # iterating through batches \n",
    "    for batch,(x,y) in enumerate(data):\n",
    "        \n",
    "        # finding error \n",
    "        pred = model(x)\n",
    "        error = loss(pred,y)\n",
    "\n",
    "        # backward error\n",
    "        opt.zero_grad()\n",
    "        error.backward()\n",
    "        opt.step()\n",
    "\n",
    "        # checking batch size and if 100 im not sure \n",
    "        if batch % 100 == 0:\n",
    "            loss, current = loss.item(), (batch + 1) * len(x)\n",
    "            print(f\"loss: {loss:>7f}  [{current:>5d}/{size:>5d}]\")"
   ]
  },
  {
   "cell_type": "code",
   "execution_count": null,
   "id": "4c6a288d",
   "metadata": {},
   "outputs": [],
   "source": [
    "def test(data, model, loss):\n",
    "    size = len(data.dataset)\n",
    "    num_batches = len(data)\n",
    "    # set up test mode\n",
    "    model.eval()\n",
    "\n",
    "    with torch.no_grad():\n",
    "        for x,y in data:\n",
    "            pred = model(x)\n",
    "            #aggregate loss per batch\n",
    "            test_loss += loss(pred,y).item()\n",
    "            # aggregate correct category prediction \n",
    "            correct += (pred.argmax(1)==y).type(torch.float).sum().item()\n",
    "    # average loss per batch\n",
    "    test_loss /= num_batches\n",
    "    # average correct prediction per data set\n",
    "    correct /= size\n",
    "    print(f\"Test Error: \\n Accuracy: {(100*correct):>0.1f}%, Avg loss: {test_loss:>8f} \\n\")"
   ]
  },
  {
   "cell_type": "code",
   "execution_count": null,
   "id": "fb8bfac0",
   "metadata": {},
   "outputs": [],
   "source": [
    "epochs = 5\n",
    "for t in range(epochs):\n",
    "    print(f\"Epoch {t+1}\\n-------------------------------\")\n",
    "    train(training_loader, model, loss, optimizer)\n",
    "    test(testing_loader, model, loss)\n",
    "print(\"Done!\")"
   ]
  },
  {
   "cell_type": "code",
   "execution_count": null,
   "id": "899e0ba4",
   "metadata": {},
   "outputs": [],
   "source": [
    "# saving models for later usage \n",
    "\n",
    "torch.save(model.state_dict(), \"model.pth\")\n",
    "print(\"Saved PyTorch Model State to model.pth\")"
   ]
  },
  {
   "cell_type": "code",
   "execution_count": null,
   "id": "bf6114a1",
   "metadata": {},
   "outputs": [],
   "source": [
    "# loading saved models \n",
    "\n",
    "model = NN().to(device)\n",
    "model.load_state_dict(torch.load(\"model.pth\", weights_only=True))"
   ]
  }
 ],
 "metadata": {
  "kernelspec": {
   "display_name": "Python 3",
   "language": "python",
   "name": "python3"
  },
  "language_info": {
   "codemirror_mode": {
    "name": "ipython",
    "version": 3
   },
   "file_extension": ".py",
   "mimetype": "text/x-python",
   "name": "python",
   "nbconvert_exporter": "python",
   "pygments_lexer": "ipython3",
   "version": "3.11.6"
  }
 },
 "nbformat": 4,
 "nbformat_minor": 5
}
