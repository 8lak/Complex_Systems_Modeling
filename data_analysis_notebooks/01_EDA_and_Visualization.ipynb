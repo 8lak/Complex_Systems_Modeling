{
 "cells": [
  {
   "cell_type": "code",
   "execution_count": 3,
   "id": "5cd44672",
   "metadata": {},
   "outputs": [],
   "source": [
    "import pandas as pd\n",
    "import seaborn as sns\n",
    "import matplotlib.pyplot as plt"
   ]
  },
  {
   "cell_type": "code",
   "execution_count": 4,
   "id": "86556a4b",
   "metadata": {},
   "outputs": [
    {
     "data": {
      "text/plain": [
       "(14, 18)"
      ]
     },
     "execution_count": 4,
     "metadata": {},
     "output_type": "execute_result"
    }
   ],
   "source": [
    "#attributes don't use () only methods\n",
    "df = pd.read_csv(\"Contact Information (Responses) - Form Responses 1.csv\")\n",
    "df.head()\n",
    "df.shape"
   ]
  },
  {
   "cell_type": "code",
   "execution_count": 5,
   "id": "c152c885",
   "metadata": {},
   "outputs": [],
   "source": [
    "#used to set display attributes of data frame\n",
    "pd.set_option('display.max_columns',18)\n",
    "\n"
   ]
  },
  {
   "cell_type": "code",
   "execution_count": 6,
   "id": "9b22fe19",
   "metadata": {},
   "outputs": [
    {
     "data": {
      "text/html": [
       "<div>\n",
       "<style scoped>\n",
       "    .dataframe tbody tr th:only-of-type {\n",
       "        vertical-align: middle;\n",
       "    }\n",
       "\n",
       "    .dataframe tbody tr th {\n",
       "        vertical-align: top;\n",
       "    }\n",
       "\n",
       "    .dataframe thead th {\n",
       "        text-align: right;\n",
       "    }\n",
       "</style>\n",
       "<table border=\"1\" class=\"dataframe\">\n",
       "  <thead>\n",
       "    <tr style=\"text-align: right;\">\n",
       "      <th></th>\n",
       "      <th>Timestamp</th>\n",
       "      <th>Sleep</th>\n",
       "      <th>Wake</th>\n",
       "      <th>Sleep Quality</th>\n",
       "      <th>Waking Energy</th>\n",
       "      <th>Work</th>\n",
       "      <th>Focused Learning</th>\n",
       "      <th>Skill practicing</th>\n",
       "      <th>Physical Endeavors</th>\n",
       "      <th>Scrolling</th>\n",
       "      <th>jorking</th>\n",
       "      <th>Passive media</th>\n",
       "      <th>Active Media</th>\n",
       "      <th>Dominant Emotion with intensity (1-10)</th>\n",
       "      <th>Dominant Emotion with intensity (1-10).1</th>\n",
       "      <th>Enhancers</th>\n",
       "      <th>how much?</th>\n",
       "      <th>MISC</th>\n",
       "    </tr>\n",
       "  </thead>\n",
       "  <tbody>\n",
       "    <tr>\n",
       "      <th>0</th>\n",
       "      <td>6/30/2025 23:48:42</td>\n",
       "      <td>2:00:00 AM</td>\n",
       "      <td>11:00:00 AM</td>\n",
       "      <td>6</td>\n",
       "      <td>NaN</td>\n",
       "      <td>0</td>\n",
       "      <td>120 minutes</td>\n",
       "      <td>60 minutes</td>\n",
       "      <td>0 minutes</td>\n",
       "      <td>33 minutes</td>\n",
       "      <td>10 miinutes</td>\n",
       "      <td>60 minutes</td>\n",
       "      <td>180 minutes</td>\n",
       "      <td>Flat/Numb</td>\n",
       "      <td>3</td>\n",
       "      <td>NIC</td>\n",
       "      <td>1 pouch</td>\n",
       "      <td>Pain in left knee from run on sunday biggest \"...</td>\n",
       "    </tr>\n",
       "    <tr>\n",
       "      <th>1</th>\n",
       "      <td>7/1/2025</td>\n",
       "      <td>12:00:00 AM</td>\n",
       "      <td>6:00:00 AM</td>\n",
       "      <td>4</td>\n",
       "      <td>10.0</td>\n",
       "      <td>8 hours transplanting roses in sun</td>\n",
       "      <td>0</td>\n",
       "      <td>10 minutes</td>\n",
       "      <td>90 minutes</td>\n",
       "      <td>30 minutes</td>\n",
       "      <td>2</td>\n",
       "      <td>53 minutes</td>\n",
       "      <td>15 minutes</td>\n",
       "      <td>Motivated</td>\n",
       "      <td>4</td>\n",
       "      <td>CAF</td>\n",
       "      <td>100 g</td>\n",
       "      <td>Work up goal oriented when I got sleepy took s...</td>\n",
       "    </tr>\n",
       "    <tr>\n",
       "      <th>2</th>\n",
       "      <td>7/2/2025</td>\n",
       "      <td>12:00:00 AM</td>\n",
       "      <td>6:00:00 AM</td>\n",
       "      <td>6</td>\n",
       "      <td>8.0</td>\n",
       "      <td>8 hours pulling rose bushes</td>\n",
       "      <td>0 minutes</td>\n",
       "      <td>0 minutes</td>\n",
       "      <td>100 minutes</td>\n",
       "      <td>40 minutes</td>\n",
       "      <td>2</td>\n",
       "      <td>90 minutes</td>\n",
       "      <td>75 minutes</td>\n",
       "      <td>Calm</td>\n",
       "      <td>4</td>\n",
       "      <td>WE</td>\n",
       "      <td>100</td>\n",
       "      <td>Had a slight discussion with superviser but i ...</td>\n",
       "    </tr>\n",
       "    <tr>\n",
       "      <th>3</th>\n",
       "      <td>7/3/2025</td>\n",
       "      <td>5:00:00 AM</td>\n",
       "      <td>7:45:00 AM</td>\n",
       "      <td>2</td>\n",
       "      <td>4.0</td>\n",
       "      <td>no work</td>\n",
       "      <td>60 minutes</td>\n",
       "      <td>0 minutes</td>\n",
       "      <td>0 minutes</td>\n",
       "      <td>0 minutes</td>\n",
       "      <td>2</td>\n",
       "      <td>90 minutes</td>\n",
       "      <td>180 minutes</td>\n",
       "      <td>Flat/Numb</td>\n",
       "      <td>5</td>\n",
       "      <td>NaN</td>\n",
       "      <td>NaN</td>\n",
       "      <td>Had to catch a flight lost track of time reaso...</td>\n",
       "    </tr>\n",
       "    <tr>\n",
       "      <th>4</th>\n",
       "      <td>7/4/2025 0:09:13</td>\n",
       "      <td>3:00:00 AM</td>\n",
       "      <td>11:30:00 AM</td>\n",
       "      <td>3</td>\n",
       "      <td>4.0</td>\n",
       "      <td>0 monites</td>\n",
       "      <td>30 minutes</td>\n",
       "      <td>0 minutes</td>\n",
       "      <td>30 minutes</td>\n",
       "      <td>30 minutes</td>\n",
       "      <td>1</td>\n",
       "      <td>40 minutes</td>\n",
       "      <td>260 minutes</td>\n",
       "      <td>Calm</td>\n",
       "      <td>4</td>\n",
       "      <td>NaN</td>\n",
       "      <td>NaN</td>\n",
       "      <td>Had a headache</td>\n",
       "    </tr>\n",
       "  </tbody>\n",
       "</table>\n",
       "</div>"
      ],
      "text/plain": [
       "            Timestamp        Sleep         Wake  Sleep Quality  Waking Energy  \\\n",
       "0  6/30/2025 23:48:42   2:00:00 AM  11:00:00 AM              6            NaN   \n",
       "1            7/1/2025  12:00:00 AM   6:00:00 AM              4           10.0   \n",
       "2            7/2/2025  12:00:00 AM   6:00:00 AM              6            8.0   \n",
       "3            7/3/2025   5:00:00 AM   7:45:00 AM              2            4.0   \n",
       "4    7/4/2025 0:09:13   3:00:00 AM  11:30:00 AM              3            4.0   \n",
       "\n",
       "                                 Work Focused Learning Skill practicing  \\\n",
       "0                                   0      120 minutes       60 minutes   \n",
       "1  8 hours transplanting roses in sun                0       10 minutes   \n",
       "2         8 hours pulling rose bushes        0 minutes        0 minutes   \n",
       "3                             no work       60 minutes        0 minutes   \n",
       "4                           0 monites      30 minutes         0 minutes   \n",
       "\n",
       "  Physical Endeavors   Scrolling      jorking Passive media  Active Media  \\\n",
       "0          0 minutes  33 minutes  10 miinutes     60 minutes  180 minutes   \n",
       "1         90 minutes  30 minutes            2     53 minutes   15 minutes   \n",
       "2        100 minutes  40 minutes            2     90 minutes   75 minutes   \n",
       "3          0 minutes   0 minutes            2     90 minutes  180 minutes   \n",
       "4         30 minutes  30 minutes            1     40 minutes  260 minutes   \n",
       "\n",
       "  Dominant Emotion with intensity (1-10)  \\\n",
       "0                              Flat/Numb   \n",
       "1                              Motivated   \n",
       "2                                   Calm   \n",
       "3                              Flat/Numb   \n",
       "4                                   Calm   \n",
       "\n",
       "   Dominant Emotion with intensity (1-10).1 Enhancers how much?  \\\n",
       "0                                         3       NIC   1 pouch   \n",
       "1                                         4       CAF     100 g   \n",
       "2                                         4        WE       100   \n",
       "3                                         5       NaN       NaN   \n",
       "4                                         4       NaN       NaN   \n",
       "\n",
       "                                                MISC  \n",
       "0  Pain in left knee from run on sunday biggest \"...  \n",
       "1  Work up goal oriented when I got sleepy took s...  \n",
       "2  Had a slight discussion with superviser but i ...  \n",
       "3  Had to catch a flight lost track of time reaso...  \n",
       "4                                    Had a headache   "
      ]
     },
     "execution_count": 6,
     "metadata": {},
     "output_type": "execute_result"
    }
   ],
   "source": [
    "#head or tail to view rows and can input integer in parenthesis\n",
    "df.head()\n"
   ]
  },
  {
   "cell_type": "code",
   "execution_count": 7,
   "id": "16b705fc",
   "metadata": {},
   "outputs": [
    {
     "data": {
      "text/plain": [
       "Index(['Timestamp', 'Sleep', 'Wake', 'Sleep Quality', 'Waking Energy', 'Work',\n",
       "       'Focused Learning', 'Skill practicing', 'Physical Endeavors',\n",
       "       'Scrolling', 'jorking', 'Passive media ', 'Active Media',\n",
       "       'Dominant Emotion with intensity (1-10)',\n",
       "       'Dominant Emotion with intensity (1-10).1', 'Enhancers', 'how much?',\n",
       "       'MISC'],\n",
       "      dtype='object')"
      ]
     },
     "execution_count": 7,
     "metadata": {},
     "output_type": "execute_result"
    }
   ],
   "source": [
    "energy = df['Waking Energy']\n",
    "type(energy)\n",
    "df.columns\n",
    "# a dataframe is a container for a group of series which are just arrays"
   ]
  },
  {
   "cell_type": "code",
   "execution_count": 8,
   "id": "dcd1fce8",
   "metadata": {},
   "outputs": [
    {
     "data": {
      "text/plain": [
       "Timestamp                                                                            7/2/2025\n",
       "Sleep                                                                             12:00:00 AM\n",
       "Wake                                                                               6:00:00 AM\n",
       "Sleep Quality                                                                               6\n",
       "Waking Energy                                                                             8.0\n",
       "Work                                                              8 hours pulling rose bushes\n",
       "Focused Learning                                                                    0 minutes\n",
       "Skill practicing                                                                    0 minutes\n",
       "Physical Endeavors                                                                100 minutes\n",
       "Scrolling                                                                          40 minutes\n",
       "jorking                                                                                     2\n",
       "Passive media                                                                      90 minutes\n",
       "Active Media                                                                       75 minutes\n",
       "Dominant Emotion with intensity (1-10)                                                   Calm\n",
       "Dominant Emotion with intensity (1-10).1                                                    4\n",
       "Enhancers                                                                                  WE\n",
       "how much?                                                                                 100\n",
       "MISC                                        Had a slight discussion with superviser but i ...\n",
       "Name: 2, dtype: object"
      ]
     },
     "execution_count": 8,
     "metadata": {},
     "output_type": "execute_result"
    }
   ],
   "source": [
    "#iloc integer location \n",
    "df.iloc[0]\n",
    "#loc index location\n",
    "df.loc[2]\n"
   ]
  },
  {
   "cell_type": "code",
   "execution_count": 9,
   "id": "8dcc94e8",
   "metadata": {},
   "outputs": [
    {
     "data": {
      "text/plain": [
       "2    2\n",
       "3    2\n",
       "4    1\n",
       "5    3\n",
       "6    1\n",
       "7    1\n",
       "8    2\n",
       "Name: jorking, dtype: object"
      ]
     },
     "execution_count": 9,
     "metadata": {},
     "output_type": "execute_result"
    }
   ],
   "source": [
    "df[\"jorking\"].value_counts()\n",
    "df.loc[2:8,'jorking']\n"
   ]
  },
  {
   "cell_type": "code",
   "execution_count": 15,
   "id": "9688760e",
   "metadata": {},
   "outputs": [
    {
     "data": {
      "text/plain": [
       "[<matplotlib.lines.Line2D at 0x3045d74d0>]"
      ]
     },
     "execution_count": 15,
     "metadata": {},
     "output_type": "execute_result"
    },
    {
     "data": {
      "image/png": "[encoded data removed]",
      "text/plain": [
       "<Figure size 640x480 with 1 Axes>"
      ]
     },
     "metadata": {},
     "output_type": "display_data"
    }
   ],
   "source": [
    "x = df.Timestamp\n",
    "y = df['Waking Energy']\n",
    "z = df['Wake']\n",
    "plt.plot(x,y)"
   ]
  }
 ],
 "metadata": {
  "kernelspec": {
   "display_name": "Python 3",
   "language": "python",
   "name": "python3"
  },
  "language_info": {
   "codemirror_mode": {
    "name": "ipython",
    "version": 3
   },
   "file_extension": ".py",
   "mimetype": "text/x-python",
   "name": "python",
   "nbconvert_exporter": "python",
   "pygments_lexer": "ipython3",
   "version": "3.11.6"
  }
 },
 "nbformat": 4,
 "nbformat_minor": 5
}
